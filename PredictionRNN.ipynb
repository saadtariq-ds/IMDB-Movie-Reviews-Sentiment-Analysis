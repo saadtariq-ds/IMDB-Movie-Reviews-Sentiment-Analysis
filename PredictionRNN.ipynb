{
 "cells": [
  {
   "cell_type": "markdown",
   "id": "640ef553-0354-4caf-acbd-4f4b9019dfab",
   "metadata": {},
   "source": [
    "## Import Libraries"
   ]
  },
  {
   "cell_type": "code",
   "execution_count": 1,
   "id": "d2dc7788-aa32-4b63-94f6-0ce6e57734b9",
   "metadata": {},
   "outputs": [],
   "source": [
    "import numpy as np\n",
    "import tensorflow as tf\n",
    "from tensorflow.keras.datasets import imdb\n",
    "from tensorflow.keras.preprocessing import sequence\n",
    "from tensorflow.keras.models import load_model\n",
    "\n",
    "import warnings\n",
    "warnings.filterwarnings('ignore')"
   ]
  },
  {
   "cell_type": "markdown",
   "id": "b93fe7b6-e479-4dac-ae30-5171a1dd0c44",
   "metadata": {},
   "source": [
    "## Load IMDB Dataset Word Index"
   ]
  },
  {
   "cell_type": "code",
   "execution_count": 2,
   "id": "2acb2f97-24ba-474e-94c8-7cf0de6be5dc",
   "metadata": {},
   "outputs": [],
   "source": [
    "word_index = imdb.get_word_index()\n",
    "reverse_word_index = {value: key for key, value in word_index.items()}"
   ]
  },
  {
   "cell_type": "markdown",
   "id": "2c2b0811-b915-49fb-81de-e4314a30a8bf",
   "metadata": {},
   "source": [
    "## Load the Model"
   ]
  },
  {
   "cell_type": "code",
   "execution_count": 3,
   "id": "62f66181-145d-4a0e-9bab-ef887c71ef09",
   "metadata": {},
   "outputs": [
    {
     "data": {
      "text/html": [
       "<pre style=\"white-space:pre;overflow-x:auto;line-height:normal;font-family:Menlo,'DejaVu Sans Mono',consolas,'Courier New',monospace\"><span style=\"font-weight: bold\">Model: \"sequential\"</span>\n",
       "</pre>\n"
      ],
      "text/plain": [
       "\u001b[1mModel: \"sequential\"\u001b[0m\n"
      ]
     },
     "metadata": {},
     "output_type": "display_data"
    },
    {
     "data": {
      "text/html": [
       "<pre style=\"white-space:pre;overflow-x:auto;line-height:normal;font-family:Menlo,'DejaVu Sans Mono',consolas,'Courier New',monospace\">┏━━━━━━━━━━━━━━━━━━━━━━━━━━━━━━━━━┳━━━━━━━━━━━━━━━━━━━━━━━━┳━━━━━━━━━━━━━━━┓\n",
       "┃<span style=\"font-weight: bold\"> Layer (type)                    </span>┃<span style=\"font-weight: bold\"> Output Shape           </span>┃<span style=\"font-weight: bold\">       Param # </span>┃\n",
       "┡━━━━━━━━━━━━━━━━━━━━━━━━━━━━━━━━━╇━━━━━━━━━━━━━━━━━━━━━━━━╇━━━━━━━━━━━━━━━┩\n",
       "│ embedding (<span style=\"color: #0087ff; text-decoration-color: #0087ff\">Embedding</span>)           │ (<span style=\"color: #00d7ff; text-decoration-color: #00d7ff\">None</span>, <span style=\"color: #00af00; text-decoration-color: #00af00\">500</span>, <span style=\"color: #00af00; text-decoration-color: #00af00\">128</span>)       │     <span style=\"color: #00af00; text-decoration-color: #00af00\">1,280,000</span> │\n",
       "├─────────────────────────────────┼────────────────────────┼───────────────┤\n",
       "│ simple_rnn (<span style=\"color: #0087ff; text-decoration-color: #0087ff\">SimpleRNN</span>)          │ (<span style=\"color: #00d7ff; text-decoration-color: #00d7ff\">None</span>, <span style=\"color: #00af00; text-decoration-color: #00af00\">128</span>)            │        <span style=\"color: #00af00; text-decoration-color: #00af00\">32,896</span> │\n",
       "├─────────────────────────────────┼────────────────────────┼───────────────┤\n",
       "│ dense (<span style=\"color: #0087ff; text-decoration-color: #0087ff\">Dense</span>)                   │ (<span style=\"color: #00d7ff; text-decoration-color: #00d7ff\">None</span>, <span style=\"color: #00af00; text-decoration-color: #00af00\">1</span>)              │           <span style=\"color: #00af00; text-decoration-color: #00af00\">129</span> │\n",
       "└─────────────────────────────────┴────────────────────────┴───────────────┘\n",
       "</pre>\n"
      ],
      "text/plain": [
       "┏━━━━━━━━━━━━━━━━━━━━━━━━━━━━━━━━━┳━━━━━━━━━━━━━━━━━━━━━━━━┳━━━━━━━━━━━━━━━┓\n",
       "┃\u001b[1m \u001b[0m\u001b[1mLayer (type)                   \u001b[0m\u001b[1m \u001b[0m┃\u001b[1m \u001b[0m\u001b[1mOutput Shape          \u001b[0m\u001b[1m \u001b[0m┃\u001b[1m \u001b[0m\u001b[1m      Param #\u001b[0m\u001b[1m \u001b[0m┃\n",
       "┡━━━━━━━━━━━━━━━━━━━━━━━━━━━━━━━━━╇━━━━━━━━━━━━━━━━━━━━━━━━╇━━━━━━━━━━━━━━━┩\n",
       "│ embedding (\u001b[38;5;33mEmbedding\u001b[0m)           │ (\u001b[38;5;45mNone\u001b[0m, \u001b[38;5;34m500\u001b[0m, \u001b[38;5;34m128\u001b[0m)       │     \u001b[38;5;34m1,280,000\u001b[0m │\n",
       "├─────────────────────────────────┼────────────────────────┼───────────────┤\n",
       "│ simple_rnn (\u001b[38;5;33mSimpleRNN\u001b[0m)          │ (\u001b[38;5;45mNone\u001b[0m, \u001b[38;5;34m128\u001b[0m)            │        \u001b[38;5;34m32,896\u001b[0m │\n",
       "├─────────────────────────────────┼────────────────────────┼───────────────┤\n",
       "│ dense (\u001b[38;5;33mDense\u001b[0m)                   │ (\u001b[38;5;45mNone\u001b[0m, \u001b[38;5;34m1\u001b[0m)              │           \u001b[38;5;34m129\u001b[0m │\n",
       "└─────────────────────────────────┴────────────────────────┴───────────────┘\n"
      ]
     },
     "metadata": {},
     "output_type": "display_data"
    },
    {
     "data": {
      "text/html": [
       "<pre style=\"white-space:pre;overflow-x:auto;line-height:normal;font-family:Menlo,'DejaVu Sans Mono',consolas,'Courier New',monospace\"><span style=\"font-weight: bold\"> Total params: </span><span style=\"color: #00af00; text-decoration-color: #00af00\">3,939,077</span> (15.03 MB)\n",
       "</pre>\n"
      ],
      "text/plain": [
       "\u001b[1m Total params: \u001b[0m\u001b[38;5;34m3,939,077\u001b[0m (15.03 MB)\n"
      ]
     },
     "metadata": {},
     "output_type": "display_data"
    },
    {
     "data": {
      "text/html": [
       "<pre style=\"white-space:pre;overflow-x:auto;line-height:normal;font-family:Menlo,'DejaVu Sans Mono',consolas,'Courier New',monospace\"><span style=\"font-weight: bold\"> Trainable params: </span><span style=\"color: #00af00; text-decoration-color: #00af00\">1,313,025</span> (5.01 MB)\n",
       "</pre>\n"
      ],
      "text/plain": [
       "\u001b[1m Trainable params: \u001b[0m\u001b[38;5;34m1,313,025\u001b[0m (5.01 MB)\n"
      ]
     },
     "metadata": {},
     "output_type": "display_data"
    },
    {
     "data": {
      "text/html": [
       "<pre style=\"white-space:pre;overflow-x:auto;line-height:normal;font-family:Menlo,'DejaVu Sans Mono',consolas,'Courier New',monospace\"><span style=\"font-weight: bold\"> Non-trainable params: </span><span style=\"color: #00af00; text-decoration-color: #00af00\">0</span> (0.00 B)\n",
       "</pre>\n"
      ],
      "text/plain": [
       "\u001b[1m Non-trainable params: \u001b[0m\u001b[38;5;34m0\u001b[0m (0.00 B)\n"
      ]
     },
     "metadata": {},
     "output_type": "display_data"
    },
    {
     "data": {
      "text/html": [
       "<pre style=\"white-space:pre;overflow-x:auto;line-height:normal;font-family:Menlo,'DejaVu Sans Mono',consolas,'Courier New',monospace\"><span style=\"font-weight: bold\"> Optimizer params: </span><span style=\"color: #00af00; text-decoration-color: #00af00\">2,626,052</span> (10.02 MB)\n",
       "</pre>\n"
      ],
      "text/plain": [
       "\u001b[1m Optimizer params: \u001b[0m\u001b[38;5;34m2,626,052\u001b[0m (10.02 MB)\n"
      ]
     },
     "metadata": {},
     "output_type": "display_data"
    }
   ],
   "source": [
    "model = load_model('imdb_simple_rnn.keras')\n",
    "model.summary()"
   ]
  },
  {
   "cell_type": "code",
   "execution_count": 4,
   "id": "b228c464-6f53-4b84-95b0-6709f0bbf655",
   "metadata": {},
   "outputs": [
    {
     "data": {
      "text/plain": [
       "[array([[ 0.22140639, -0.11513483,  0.21972539, ...,  0.22673991,\n",
       "         -0.24207376,  0.17858778],\n",
       "        [ 0.02854331,  0.00788682,  0.0270983 , ...,  0.04231948,\n",
       "         -0.01203886,  0.02381311],\n",
       "        [-0.00951375,  0.06129977, -0.03732329, ..., -0.00475352,\n",
       "         -0.00366628,  0.04144425],\n",
       "        ...,\n",
       "        [ 0.05858357, -0.05871649, -0.00368434, ..., -0.00690462,\n",
       "          0.04444133,  0.01947879],\n",
       "        [-0.06834041, -0.03076934, -0.01785935, ..., -0.08454299,\n",
       "          0.00429729, -0.04207121],\n",
       "        [ 0.00338987,  0.01952041, -0.02098526, ..., -0.07044431,\n",
       "          0.0008623 ,  0.04364881]], dtype=float32),\n",
       " array([[-0.07998667,  0.10355988, -0.01159777, ...,  0.12955594,\n",
       "         -0.09878253, -0.05922476],\n",
       "        [ 0.04828387,  0.03281971, -0.10511232, ...,  0.05051371,\n",
       "         -0.13431183, -0.10722627],\n",
       "        [ 0.02501199, -0.08163564, -0.10545348, ...,  0.02060069,\n",
       "         -0.07284538, -0.10317685],\n",
       "        ...,\n",
       "        [-0.01304019, -0.15319432,  0.09117242, ..., -0.01539683,\n",
       "         -0.19359   , -0.14825605],\n",
       "        [-0.15758422,  0.0228452 ,  0.15289137, ..., -0.06404639,\n",
       "          0.03993493,  0.03190685],\n",
       "        [-0.1111603 , -0.05316193,  0.08316854, ...,  0.17174144,\n",
       "          0.03420485, -0.08159953]], dtype=float32),\n",
       " array([[-1.9246119e-01,  8.6745061e-02, -2.1878132e-01, ...,\n",
       "         -1.2470474e-01, -7.2268741e-03,  2.4958069e-02],\n",
       "        [ 1.3410805e-02,  1.1798483e-04,  5.9397820e-02, ...,\n",
       "         -2.4815932e-01,  3.8797283e-03, -3.7592188e-02],\n",
       "        [-9.4038151e-02, -2.8727418e-02,  1.4215705e-01, ...,\n",
       "          1.4863136e-01, -9.1397464e-02,  1.2986679e-02],\n",
       "        ...,\n",
       "        [ 1.3023268e-01,  1.6382217e-02,  2.8302999e-02, ...,\n",
       "         -5.9319403e-02, -2.0069256e-02,  2.0936269e-02],\n",
       "        [ 1.0792462e-01,  7.4106842e-02,  8.1948023e-03, ...,\n",
       "         -2.7506851e-02, -9.3546614e-02, -1.5262246e-01],\n",
       "        [ 4.5889005e-02,  1.7725225e-01,  6.4520471e-02, ...,\n",
       "          2.5665283e-02, -1.4709179e-01,  1.6693939e-01]], dtype=float32),\n",
       " array([-2.1007892e-02, -1.1617175e-03, -1.3742468e-02, -2.9408408e-02,\n",
       "        -1.7565333e-03, -1.8623430e-02, -3.8368743e-02, -1.0363339e-02,\n",
       "        -3.4091480e-02, -1.4226405e-02, -3.8453508e-02, -5.1762038e-03,\n",
       "        -2.1712591e-03,  3.7186190e-02, -6.9492785e-03, -4.2710744e-02,\n",
       "        -3.7544157e-02, -1.2795631e-02, -2.0949057e-05, -2.7815009e-02,\n",
       "        -2.0779407e-02, -2.3043025e-02, -1.0696214e-02,  6.9404626e-03,\n",
       "         9.9855335e-03, -2.7288152e-02, -2.4940364e-02, -5.5430181e-02,\n",
       "        -3.4377214e-02, -2.2020074e-02,  4.9313204e-03,  8.9740404e-04,\n",
       "         1.0859019e-02,  6.1924797e-03, -1.7804919e-02, -1.3534987e-02,\n",
       "         1.2529332e-02,  1.3912721e-03, -2.5844056e-02, -4.4851918e-03,\n",
       "        -1.6211618e-02,  3.0252635e-02,  4.1875951e-03,  1.6502054e-02,\n",
       "        -1.5863349e-03, -1.7021046e-04, -1.0350741e-02, -2.2357877e-03,\n",
       "        -1.4690177e-02,  4.2425789e-04,  1.3536528e-02, -1.9984487e-02,\n",
       "        -1.8265324e-02,  2.5507022e-02, -7.5018494e-03, -1.4356581e-02,\n",
       "         2.0856494e-02, -1.8492628e-02,  3.9532669e-03, -2.2261342e-02,\n",
       "        -3.9717318e-03, -2.6762029e-02, -8.7171802e-03, -1.8253034e-02,\n",
       "        -3.6230641e-03, -2.2684842e-02, -1.1140504e-03, -2.3252789e-02,\n",
       "         1.1920538e-03,  1.5976323e-03, -1.1389865e-02, -2.2698525e-02,\n",
       "        -7.5840801e-03,  4.0335599e-03, -1.0266939e-02, -2.5419854e-02,\n",
       "        -4.0856861e-02, -3.1702984e-02, -3.5756391e-02, -2.7203858e-02,\n",
       "         2.2688948e-03, -2.3825247e-02,  1.9363830e-02, -2.7804200e-03,\n",
       "        -4.2317845e-02,  6.4820080e-05,  9.6057011e-03, -1.5361897e-02,\n",
       "         9.5869470e-03,  1.3061755e-02, -2.2218466e-02, -5.8392747e-03,\n",
       "         4.2157015e-03, -3.1560265e-02,  5.8804307e-04, -5.6813717e-02,\n",
       "        -1.2950741e-02, -1.5330927e-02, -1.5765684e-02,  1.0425279e-02,\n",
       "        -4.3000518e-03, -6.6641980e-05,  6.4521120e-03, -1.8022250e-02,\n",
       "        -6.4574587e-03, -2.1472167e-02, -3.9397992e-02, -8.6831069e-03,\n",
       "        -5.6897081e-02, -2.0438973e-03, -3.3203106e-02, -9.0774586e-03,\n",
       "        -1.7355489e-02, -3.1439915e-02, -8.6247874e-03, -2.6415652e-02,\n",
       "        -1.6159503e-02, -1.7846992e-02,  1.8052963e-03, -2.7061669e-02,\n",
       "        -1.0596081e-02, -9.8826597e-04, -1.4892570e-03, -3.6298597e-04,\n",
       "        -1.1914494e-02, -3.0808639e-02, -1.8861737e-02,  3.1766988e-02],\n",
       "       dtype=float32),\n",
       " array([[ 0.17922014],\n",
       "        [-0.5175378 ],\n",
       "        [ 0.17161536],\n",
       "        [ 0.13175441],\n",
       "        [-0.06634186],\n",
       "        [-0.38462397],\n",
       "        [ 0.0474597 ],\n",
       "        [ 0.22622594],\n",
       "        [-0.1880259 ],\n",
       "        [-0.0671422 ],\n",
       "        [-0.10262043],\n",
       "        [-0.06345946],\n",
       "        [ 0.13930145],\n",
       "        [ 0.1056359 ],\n",
       "        [-0.2740108 ],\n",
       "        [-0.21331854],\n",
       "        [ 0.01224089],\n",
       "        [ 0.1648697 ],\n",
       "        [-0.07267026],\n",
       "        [ 0.12293157],\n",
       "        [-0.0140831 ],\n",
       "        [-0.0351045 ],\n",
       "        [-0.0030272 ],\n",
       "        [-0.21497244],\n",
       "        [-0.11469892],\n",
       "        [ 0.00101023],\n",
       "        [-0.1561309 ],\n",
       "        [-0.0473251 ],\n",
       "        [-0.05390561],\n",
       "        [ 0.06456465],\n",
       "        [-0.1046355 ],\n",
       "        [ 0.20840053],\n",
       "        [-0.15842558],\n",
       "        [-0.06508299],\n",
       "        [ 0.21871723],\n",
       "        [ 0.12686637],\n",
       "        [-0.2741653 ],\n",
       "        [ 0.01224046],\n",
       "        [ 0.17241585],\n",
       "        [-0.08514542],\n",
       "        [ 0.08643051],\n",
       "        [-0.05756344],\n",
       "        [ 0.08418608],\n",
       "        [ 0.13848695],\n",
       "        [ 0.02367614],\n",
       "        [-0.09154352],\n",
       "        [-0.17812166],\n",
       "        [ 0.12228168],\n",
       "        [-0.05685376],\n",
       "        [-0.07919968],\n",
       "        [-0.09522151],\n",
       "        [-0.15269384],\n",
       "        [-0.18440425],\n",
       "        [-0.00584671],\n",
       "        [-0.15985985],\n",
       "        [ 0.02444108],\n",
       "        [ 0.0882269 ],\n",
       "        [-0.07491784],\n",
       "        [ 0.11270284],\n",
       "        [-0.12556905],\n",
       "        [-0.04759584],\n",
       "        [-0.19495012],\n",
       "        [ 0.12063262],\n",
       "        [-0.25158632],\n",
       "        [ 0.18892907],\n",
       "        [ 0.04590993],\n",
       "        [ 0.04418238],\n",
       "        [-0.16955788],\n",
       "        [ 0.21922776],\n",
       "        [-0.081858  ],\n",
       "        [ 0.03053039],\n",
       "        [ 0.11734821],\n",
       "        [ 0.21968098],\n",
       "        [-0.12628661],\n",
       "        [ 0.09437072],\n",
       "        [-0.00254292],\n",
       "        [-0.12633607],\n",
       "        [ 0.10867699],\n",
       "        [ 0.09505093],\n",
       "        [-0.27414683],\n",
       "        [ 0.20649989],\n",
       "        [-0.13239676],\n",
       "        [-0.10649976],\n",
       "        [-0.05542517],\n",
       "        [ 0.1801717 ],\n",
       "        [-0.50699306],\n",
       "        [-0.03259649],\n",
       "        [ 0.04830889],\n",
       "        [-0.12629503],\n",
       "        [-0.11741827],\n",
       "        [ 0.01455349],\n",
       "        [-0.06183865],\n",
       "        [-0.50488406],\n",
       "        [ 0.18984343],\n",
       "        [-0.04122421],\n",
       "        [ 0.03314458],\n",
       "        [-0.03067672],\n",
       "        [-0.03654478],\n",
       "        [ 0.03959585],\n",
       "        [ 0.07119945],\n",
       "        [-0.05588441],\n",
       "        [-0.11675263],\n",
       "        [ 0.21714965],\n",
       "        [ 0.06025823],\n",
       "        [ 0.22388053],\n",
       "        [-0.2127663 ],\n",
       "        [ 0.4429808 ],\n",
       "        [ 0.22189705],\n",
       "        [-0.02720594],\n",
       "        [ 0.2035758 ],\n",
       "        [ 0.20572834],\n",
       "        [-0.1383159 ],\n",
       "        [-0.16668838],\n",
       "        [-0.1719062 ],\n",
       "        [ 0.06267079],\n",
       "        [-0.13055062],\n",
       "        [ 0.2518433 ],\n",
       "        [ 0.23683271],\n",
       "        [-0.2318704 ],\n",
       "        [ 0.1567492 ],\n",
       "        [-0.16373202],\n",
       "        [-0.16309708],\n",
       "        [ 0.25415885],\n",
       "        [ 0.24449772],\n",
       "        [-0.16294968],\n",
       "        [ 0.00996727],\n",
       "        [-0.15882827],\n",
       "        [-0.11152001]], dtype=float32),\n",
       " array([-0.10838548], dtype=float32)]"
      ]
     },
     "execution_count": 4,
     "metadata": {},
     "output_type": "execute_result"
    }
   ],
   "source": [
    "model.get_weights()"
   ]
  },
  {
   "cell_type": "markdown",
   "id": "dcd2e29a-3152-4347-ab8b-3fde9ab88d99",
   "metadata": {},
   "source": [
    "## Helper Functions"
   ]
  },
  {
   "cell_type": "code",
   "execution_count": 5,
   "id": "221783ec-0063-4e77-b635-34d56e5f962b",
   "metadata": {},
   "outputs": [],
   "source": [
    "def decode_review(encoded_review):\n",
    "    return ' '.join([reverse_word_index.get(i - 3, '?') for i in encoded_review])"
   ]
  },
  {
   "cell_type": "code",
   "execution_count": 6,
   "id": "e776760c-5e96-4b51-8ab7-3090f6729269",
   "metadata": {},
   "outputs": [],
   "source": [
    "def preprocess_text(text):\n",
    "    words = text.lower().split()\n",
    "    encoded_review = [word_index.get(word, 2) + 3 for word in words]\n",
    "    padded_review = sequence.pad_sequences(\n",
    "        sequences=[encoded_review],\n",
    "        maxlen=500,\n",
    "        padding='pre',\n",
    "    )\n",
    "    return padded_review"
   ]
  },
  {
   "cell_type": "markdown",
   "id": "fc6ad187-211a-4943-b49f-a7c78a778e7b",
   "metadata": {},
   "source": [
    "## Prediction"
   ]
  },
  {
   "cell_type": "code",
   "execution_count": 7,
   "id": "70d193f2-2fdf-485c-8171-80a9e7052038",
   "metadata": {},
   "outputs": [],
   "source": [
    "def predict_sentiment(review):\n",
    "    preprocessed_input = preprocess_text(review)\n",
    "    prediction = model.predict(preprocessed_input)\n",
    "\n",
    "    sentiment = 'Positive' if prediction[0][0] > 0.5 else 'Negative'\n",
    "\n",
    "    return sentiment, prediction[0][0]"
   ]
  },
  {
   "cell_type": "code",
   "execution_count": 8,
   "id": "c0040984-f14c-4151-91b9-fb509b9c2903",
   "metadata": {},
   "outputs": [],
   "source": [
    "example_review = \"This movie was fantastic! The acting was great and the plot was thrilling\""
   ]
  },
  {
   "cell_type": "code",
   "execution_count": 9,
   "id": "3eb73551-c576-4150-ae07-ca763b709f56",
   "metadata": {},
   "outputs": [
    {
     "name": "stdout",
     "output_type": "stream",
     "text": [
      "\u001b[1m1/1\u001b[0m \u001b[32m━━━━━━━━━━━━━━━━━━━━\u001b[0m\u001b[37m\u001b[0m \u001b[1m0s\u001b[0m 101ms/step\n"
     ]
    }
   ],
   "source": [
    "sentiment, score = predict_sentiment(review=example_review)"
   ]
  },
  {
   "cell_type": "code",
   "execution_count": 10,
   "id": "6ed9ff01-9ba3-4f99-b92e-ff6e28cf303d",
   "metadata": {},
   "outputs": [
    {
     "name": "stdout",
     "output_type": "stream",
     "text": [
      "Review: This movie was fantastic! The acting was great and the plot was thrilling\n",
      "Sentiment: Positive\n",
      "Prediction Score: 0.9997570514678955\n"
     ]
    }
   ],
   "source": [
    "print(f\"Review: {example_review}\")\n",
    "print(f\"Sentiment: {sentiment}\")\n",
    "print(f\"Prediction Score: {score}\")"
   ]
  },
  {
   "cell_type": "code",
   "execution_count": null,
   "id": "ec3d7e84-a825-466b-ad63-1de559d7880b",
   "metadata": {},
   "outputs": [],
   "source": []
  }
 ],
 "metadata": {
  "kernelspec": {
   "display_name": "Python 3 (ipykernel)",
   "language": "python",
   "name": "python3"
  },
  "language_info": {
   "codemirror_mode": {
    "name": "ipython",
    "version": 3
   },
   "file_extension": ".py",
   "mimetype": "text/x-python",
   "name": "python",
   "nbconvert_exporter": "python",
   "pygments_lexer": "ipython3",
   "version": "3.11.11"
  }
 },
 "nbformat": 4,
 "nbformat_minor": 5
}
